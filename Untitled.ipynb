{
 "cells": [
  {
   "cell_type": "code",
   "execution_count": 3,
   "id": "a1af0cfb",
   "metadata": {},
   "outputs": [
    {
     "name": "stdout",
     "output_type": "stream",
     "text": [
      "Waiting for a connection...\n",
      "Connection accepted from: ('127.0.0.1', 52500)\n",
      "File sent successfully.\n",
      "File received successfully.\n"
     ]
    }
   ],
   "source": [
    "import socket\n",
    "\n",
    "def run_server():\n",
    "    server = socket.socket(socket.AF_INET, socket.SOCK_STREAM)\n",
    "    server_address = (\"localhost\", 1035)\n",
    "    server.bind(server_address)\n",
    "    server.listen(1)\n",
    "\n",
    "    print(\"Waiting for a connection...\")\n",
    "\n",
    "    connection, client_address = server.accept()\n",
    "    print(\"Connection accepted from:\", client_address)\n",
    "\n",
    "    file_name = \"sample.txt\"\n",
    "    connection.sendall(file_name.encode())\n",
    "\n",
    "    # Open the file and read its data\n",
    "    with open(\"sample.txt\", \"r\") as file:\n",
    "        data = file.read()\n",
    "\n",
    "    # Send the file data\n",
    "    connection.sendall(data.encode())\n",
    "\n",
    "    print(\"File sent successfully.\")\n",
    "\n",
    "    connection.close()\n",
    "    server.close()\n",
    "\n",
    "def run_client():\n",
    "    client = socket.socket(socket.AF_INET, socket.SOCK_STREAM)\n",
    "    server_address = (\"localhost\", 1035)\n",
    "    client.connect(server_address)\n",
    "\n",
    "    file_name = client.recv(1024).decode()\n",
    "    file_name = \"hello\" + file_name\n",
    "\n",
    "    file = open(file_name, \"wb\")\n",
    "    data = client.recv(4096)\n",
    "    file.write(data)\n",
    "    file.close()\n",
    "    client.close()\n",
    "\n",
    "    print(\"File received successfully.\")\n",
    "\n",
    "# Run the server and client in the same file\n",
    "if __name__ == \"__main__\":\n",
    "    import threading\n",
    "\n",
    "    # Start the server in a separate thread\n",
    "    server_thread = threading.Thread(target=run_server)\n",
    "    server_thread.start()\n",
    "\n",
    "    # Run the client in the main thread\n",
    "    run_client()\n",
    "\n",
    "    # Wait for the server thread to finish\n",
    "    server_thread.join()"
   ]
  },
  {
   "cell_type": "code",
   "execution_count": null,
   "id": "46c3188c",
   "metadata": {},
   "outputs": [],
   "source": []
  },
  {
   "cell_type": "code",
   "execution_count": null,
   "id": "b2e9308b",
   "metadata": {},
   "outputs": [],
   "source": []
  }
 ],
 "metadata": {
  "kernelspec": {
   "display_name": "Python 3 (ipykernel)",
   "language": "python",
   "name": "python3"
  },
  "language_info": {
   "codemirror_mode": {
    "name": "ipython",
    "version": 3
   },
   "file_extension": ".py",
   "mimetype": "text/x-python",
   "name": "python",
   "nbconvert_exporter": "python",
   "pygments_lexer": "ipython3",
   "version": "3.11.5"
  }
 },
 "nbformat": 4,
 "nbformat_minor": 5
}
